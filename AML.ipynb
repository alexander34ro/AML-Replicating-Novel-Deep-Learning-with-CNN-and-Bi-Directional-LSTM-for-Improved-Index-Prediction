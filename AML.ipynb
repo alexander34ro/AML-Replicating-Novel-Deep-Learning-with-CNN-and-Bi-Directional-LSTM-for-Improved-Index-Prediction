{
  "nbformat": 4,
  "nbformat_minor": 0,
  "metadata": {
    "colab": {
      "name": "AML.ipynb",
      "provenance": [],
      "collapsed_sections": [],
      "include_colab_link": true
    },
    "kernelspec": {
      "name": "python3",
      "display_name": "Python 3"
    }
  },
  "cells": [
    {
      "cell_type": "markdown",
      "metadata": {
        "id": "view-in-github",
        "colab_type": "text"
      },
      "source": [
        "<a href=\"https://colab.research.google.com/drive/1yzyIfwy8PtZfKG9xMhcQf4gNRC__dbNq" target=\"_parent\"><img src=\"https://colab.research.google.com/assets/colab-badge.svg\" alt=\"Open In Colab\"/></a>"
      ]
    },
    {
      "cell_type": "code",
      "metadata": {
        "id": "BUL4Bxszda53"
      },
      "source": [
        "import tensorflow as tf\n",
        "import pandas as pd\n",
        "import numpy as np\n",
        "import matplotlib.pyplot as plt"
      ],
      "execution_count": null,
      "outputs": []
    },
    {
      "cell_type": "code",
      "metadata": {
        "id": "EMZ1Bjvrf13g",
        "outputId": "84a5bee0-3b66-43a2-d9c9-03bb8a273721",
        "colab": {
          "base_uri": "https://localhost:8080/"
        }
      },
      "source": [
        "# From 2008-01-02 to 2018-11-26\n",
        "url = 'https://raw.githubusercontent.com/amir-souri/Stock-Market-Index-Prediction/master/%5EGSPC.csv'\n",
        "df = pd.read_csv(url, index_col='Date')\n",
        "print(\"adam\")"
      ],
      "execution_count": null,
      "outputs": [
        {
          "output_type": "stream",
          "text": [
            "adam\n"
          ],
          "name": "stdout"
        }
      ]
    },
    {
      "cell_type": "code",
      "metadata": {
        "id": "Gkrk2Nlqkwia",
        "outputId": "9b371327-cab2-4555-dc8f-cc493c678fff",
        "colab": {
          "base_uri": "https://localhost:8080/",
          "height": 238
        }
      },
      "source": [
        "df.head()"
      ],
      "execution_count": null,
      "outputs": [
        {
          "output_type": "execute_result",
          "data": {
            "text/html": [
              "<div>\n",
              "<style scoped>\n",
              "    .dataframe tbody tr th:only-of-type {\n",
              "        vertical-align: middle;\n",
              "    }\n",
              "\n",
              "    .dataframe tbody tr th {\n",
              "        vertical-align: top;\n",
              "    }\n",
              "\n",
              "    .dataframe thead th {\n",
              "        text-align: right;\n",
              "    }\n",
              "</style>\n",
              "<table border=\"1\" class=\"dataframe\">\n",
              "  <thead>\n",
              "    <tr style=\"text-align: right;\">\n",
              "      <th></th>\n",
              "      <th>Open</th>\n",
              "      <th>High</th>\n",
              "      <th>Low</th>\n",
              "      <th>Close</th>\n",
              "      <th>Adj Close</th>\n",
              "      <th>Volume</th>\n",
              "    </tr>\n",
              "    <tr>\n",
              "      <th>Date</th>\n",
              "      <th></th>\n",
              "      <th></th>\n",
              "      <th></th>\n",
              "      <th></th>\n",
              "      <th></th>\n",
              "      <th></th>\n",
              "    </tr>\n",
              "  </thead>\n",
              "  <tbody>\n",
              "    <tr>\n",
              "      <th>2008-01-02</th>\n",
              "      <td>1467.969971</td>\n",
              "      <td>1471.770020</td>\n",
              "      <td>1442.069946</td>\n",
              "      <td>1447.160034</td>\n",
              "      <td>1447.160034</td>\n",
              "      <td>3452650000</td>\n",
              "    </tr>\n",
              "    <tr>\n",
              "      <th>2008-01-03</th>\n",
              "      <td>1447.550049</td>\n",
              "      <td>1456.800049</td>\n",
              "      <td>1443.729980</td>\n",
              "      <td>1447.160034</td>\n",
              "      <td>1447.160034</td>\n",
              "      <td>3429500000</td>\n",
              "    </tr>\n",
              "    <tr>\n",
              "      <th>2008-01-04</th>\n",
              "      <td>1444.010010</td>\n",
              "      <td>1444.010010</td>\n",
              "      <td>1411.189941</td>\n",
              "      <td>1411.630005</td>\n",
              "      <td>1411.630005</td>\n",
              "      <td>4166000000</td>\n",
              "    </tr>\n",
              "    <tr>\n",
              "      <th>2008-01-07</th>\n",
              "      <td>1414.069946</td>\n",
              "      <td>1423.869995</td>\n",
              "      <td>1403.449951</td>\n",
              "      <td>1416.180054</td>\n",
              "      <td>1416.180054</td>\n",
              "      <td>4221260000</td>\n",
              "    </tr>\n",
              "    <tr>\n",
              "      <th>2008-01-08</th>\n",
              "      <td>1415.709961</td>\n",
              "      <td>1430.280029</td>\n",
              "      <td>1388.300049</td>\n",
              "      <td>1390.189941</td>\n",
              "      <td>1390.189941</td>\n",
              "      <td>4705390000</td>\n",
              "    </tr>\n",
              "  </tbody>\n",
              "</table>\n",
              "</div>"
            ],
            "text/plain": [
              "                   Open         High  ...    Adj Close      Volume\n",
              "Date                                  ...                         \n",
              "2008-01-02  1467.969971  1471.770020  ...  1447.160034  3452650000\n",
              "2008-01-03  1447.550049  1456.800049  ...  1447.160034  3429500000\n",
              "2008-01-04  1444.010010  1444.010010  ...  1411.630005  4166000000\n",
              "2008-01-07  1414.069946  1423.869995  ...  1416.180054  4221260000\n",
              "2008-01-08  1415.709961  1430.280029  ...  1390.189941  4705390000\n",
              "\n",
              "[5 rows x 6 columns]"
            ]
          },
          "metadata": {
            "tags": []
          },
          "execution_count": 3
        }
      ]
    },
    {
      "cell_type": "code",
      "metadata": {
        "id": "O34RY6iFk4ct"
      },
      "source": [
        ""
      ],
      "execution_count": null,
      "outputs": []
    }
  ]
}

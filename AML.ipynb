{
  "nbformat": 4,
  "nbformat_minor": 0,
  "metadata": {
    "colab": {
      "name": "AML.ipynb",
      "provenance": [],
      "collapsed_sections": [
        "qpujdrmr7L18",
        "2l2BkKSKHz-h",
        "LHdMi28lvBDo",
        "NmfAianfQ5GH",
        "nVfRBs9wWVA3",
        "dFtgted2wslz",
        "GH3FFhyrLuvR",
        "RTnOQ7Q9L95l"
      ],
      "include_colab_link": true
    },
    "kernelspec": {
      "name": "python3",
      "display_name": "Python 3"
    }
  },
  "cells": [
    {
      "cell_type": "markdown",
      "metadata": {
        "id": "view-in-github",
        "colab_type": "text"
      },
      "source": [
        "<a href=\"https://colab.research.google.com/github/alexander34ro/AML-Replicating-Novel-Deep-Learning-with-CNN-and-Bi-Directional-LSTM-for-Improved-Index-Prediction/blob/main/AML.ipynb\" target=\"_parent\"><img src=\"https://colab.research.google.com/assets/colab-badge.svg\" alt=\"Open In Colab\"/></a>"
      ]
    },
    {
      "cell_type": "markdown",
      "metadata": {
        "id": "qpujdrmr7L18"
      },
      "source": [
        "### Imports and listed versions"
      ]
    },
    {
      "cell_type": "code",
      "metadata": {
        "id": "BUL4Bxszda53"
      },
      "source": [
        "import tensorflow as tf\n",
        "import pandas as pd\n",
        "import numpy as np\n",
        "import matplotlib\n",
        "import matplotlib.pyplot as plt"
      ],
      "execution_count": 69,
      "outputs": []
    },
    {
      "cell_type": "code",
      "metadata": {
        "id": "OMiYz-CX6k_A",
        "outputId": "fbd84ef6-8ce2-4dc6-b383-9b59e4406917",
        "colab": {
          "base_uri": "https://localhost:8080/"
        }
      },
      "source": [
        "print(f'tensorflow=={tf.__version__}')\n",
        "print(f'pandas=={pd.__version__}')\n",
        "print(f'numpy=={np.__version__}')\n",
        "print(f'matplotlib=={matplotlib.__version__}')"
      ],
      "execution_count": 70,
      "outputs": [
        {
          "output_type": "stream",
          "text": [
            "tensorflow==2.3.0\n",
            "pandas==1.1.4\n",
            "numpy==1.18.5\n",
            "matplotlib==3.2.2\n"
          ],
          "name": "stdout"
        }
      ]
    },
    {
      "cell_type": "markdown",
      "metadata": {
        "id": "2l2BkKSKHz-h"
      },
      "source": [
        "### Data sources"
      ]
    },
    {
      "cell_type": "markdown",
      "metadata": {
        "id": "EAcnNZ6pQTLf"
      },
      "source": [
        "* S&P500 from 2008-01-02 to 2018-11-27 (as used in the paper): https://finance.yahoo.com/quote/%5EGSPC/history?period1=1199232000&period2=1543276800&interval=1d&filter=history&frequency=1d&includeAdjustedClose=true\n",
        "\n",
        "* Wilshire 5000: https://finance.yahoo.com/quote/%5EW5000/history?period1=1573911138&period2=1605533538&interval=1d&filter=history&frequency=1d&includeAdjustedClose=true"
      ]
    },
    {
      "cell_type": "code",
      "metadata": {
        "id": "EMZ1Bjvrf13g"
      },
      "source": [
        "url_sp500 = 'https://raw.githubusercontent.com/alexander34ro/AML-Replicating-Novel-Deep-Learning-with-CNN-and-Bi-Directional-LSTM-for-Improved-Index-Prediction/main/S%26P500.csv'\n",
        "url_wilshire = 'https://raw.githubusercontent.com/alexander34ro/AML-Replicating-Novel-Deep-Learning-with-CNN-and-Bi-Directional-LSTM-for-Improved-Index-Prediction/main/%5EW5000.csv'"
      ],
      "execution_count": 172,
      "outputs": []
    },
    {
      "cell_type": "markdown",
      "metadata": {
        "id": "LHdMi28lvBDo"
      },
      "source": [
        "## S&P500 data description"
      ]
    },
    {
      "cell_type": "code",
      "metadata": {
        "id": "NvoUyZxvyR_1"
      },
      "source": [
        "df = pd.read_csv(url_sp500, index_col='Date')"
      ],
      "execution_count": 153,
      "outputs": []
    },
    {
      "cell_type": "code",
      "metadata": {
        "id": "MkKTnzAqN-l0",
        "outputId": "4cbe7577-8441-4fd6-8e7c-a3c24ce5d464",
        "colab": {
          "base_uri": "https://localhost:8080/"
        }
      },
      "source": [
        "print(f'Number of rows: \\t{df.shape[0]}')\n",
        "print(f'Number of columns: \\t{df.shape[1]}')\n",
        "print(f'Columns: \\t\\t{\", \".join(list(df.columns))}')"
      ],
      "execution_count": 154,
      "outputs": [
        {
          "output_type": "stream",
          "text": [
            "Number of rows: \t2746\n",
            "Number of columns: \t6\n",
            "Columns: \t\tOpen, High, Low, Close, Adj Close, Volume\n"
          ],
          "name": "stdout"
        }
      ]
    },
    {
      "cell_type": "code",
      "metadata": {
        "id": "Gkrk2Nlqkwia",
        "outputId": "95a564e8-08dc-454c-8ab2-41eec4545966",
        "colab": {
          "base_uri": "https://localhost:8080/",
          "height": 238
        }
      },
      "source": [
        "# first 5 rows\n",
        "df.head(5)\n",
        "# last 5 rows\n",
        "#df.tail(5)"
      ],
      "execution_count": 155,
      "outputs": [
        {
          "output_type": "execute_result",
          "data": {
            "text/html": [
              "<div>\n",
              "<style scoped>\n",
              "    .dataframe tbody tr th:only-of-type {\n",
              "        vertical-align: middle;\n",
              "    }\n",
              "\n",
              "    .dataframe tbody tr th {\n",
              "        vertical-align: top;\n",
              "    }\n",
              "\n",
              "    .dataframe thead th {\n",
              "        text-align: right;\n",
              "    }\n",
              "</style>\n",
              "<table border=\"1\" class=\"dataframe\">\n",
              "  <thead>\n",
              "    <tr style=\"text-align: right;\">\n",
              "      <th></th>\n",
              "      <th>Open</th>\n",
              "      <th>High</th>\n",
              "      <th>Low</th>\n",
              "      <th>Close</th>\n",
              "      <th>Adj Close</th>\n",
              "      <th>Volume</th>\n",
              "    </tr>\n",
              "    <tr>\n",
              "      <th>Date</th>\n",
              "      <th></th>\n",
              "      <th></th>\n",
              "      <th></th>\n",
              "      <th></th>\n",
              "      <th></th>\n",
              "      <th></th>\n",
              "    </tr>\n",
              "  </thead>\n",
              "  <tbody>\n",
              "    <tr>\n",
              "      <th>2008-01-02</th>\n",
              "      <td>1467.969971</td>\n",
              "      <td>1471.770020</td>\n",
              "      <td>1442.069946</td>\n",
              "      <td>1447.160034</td>\n",
              "      <td>1447.160034</td>\n",
              "      <td>3452650000</td>\n",
              "    </tr>\n",
              "    <tr>\n",
              "      <th>2008-01-03</th>\n",
              "      <td>1447.550049</td>\n",
              "      <td>1456.800049</td>\n",
              "      <td>1443.729980</td>\n",
              "      <td>1447.160034</td>\n",
              "      <td>1447.160034</td>\n",
              "      <td>3429500000</td>\n",
              "    </tr>\n",
              "    <tr>\n",
              "      <th>2008-01-04</th>\n",
              "      <td>1444.010010</td>\n",
              "      <td>1444.010010</td>\n",
              "      <td>1411.189941</td>\n",
              "      <td>1411.630005</td>\n",
              "      <td>1411.630005</td>\n",
              "      <td>4166000000</td>\n",
              "    </tr>\n",
              "    <tr>\n",
              "      <th>2008-01-07</th>\n",
              "      <td>1414.069946</td>\n",
              "      <td>1423.869995</td>\n",
              "      <td>1403.449951</td>\n",
              "      <td>1416.180054</td>\n",
              "      <td>1416.180054</td>\n",
              "      <td>4221260000</td>\n",
              "    </tr>\n",
              "    <tr>\n",
              "      <th>2008-01-08</th>\n",
              "      <td>1415.709961</td>\n",
              "      <td>1430.280029</td>\n",
              "      <td>1388.300049</td>\n",
              "      <td>1390.189941</td>\n",
              "      <td>1390.189941</td>\n",
              "      <td>4705390000</td>\n",
              "    </tr>\n",
              "  </tbody>\n",
              "</table>\n",
              "</div>"
            ],
            "text/plain": [
              "                   Open         High  ...    Adj Close      Volume\n",
              "Date                                  ...                         \n",
              "2008-01-02  1467.969971  1471.770020  ...  1447.160034  3452650000\n",
              "2008-01-03  1447.550049  1456.800049  ...  1447.160034  3429500000\n",
              "2008-01-04  1444.010010  1444.010010  ...  1411.630005  4166000000\n",
              "2008-01-07  1414.069946  1423.869995  ...  1416.180054  4221260000\n",
              "2008-01-08  1415.709961  1430.280029  ...  1390.189941  4705390000\n",
              "\n",
              "[5 rows x 6 columns]"
            ]
          },
          "metadata": {
            "tags": []
          },
          "execution_count": 155
        }
      ]
    },
    {
      "cell_type": "code",
      "metadata": {
        "id": "zIow9pXEwtB4",
        "outputId": "05e9f89f-24a7-4be8-c931-d818d86425b9",
        "colab": {
          "base_uri": "https://localhost:8080/",
          "height": 300
        }
      },
      "source": [
        "# summary statistics\n",
        "df.describe()"
      ],
      "execution_count": 156,
      "outputs": [
        {
          "output_type": "execute_result",
          "data": {
            "text/html": [
              "<div>\n",
              "<style scoped>\n",
              "    .dataframe tbody tr th:only-of-type {\n",
              "        vertical-align: middle;\n",
              "    }\n",
              "\n",
              "    .dataframe tbody tr th {\n",
              "        vertical-align: top;\n",
              "    }\n",
              "\n",
              "    .dataframe thead th {\n",
              "        text-align: right;\n",
              "    }\n",
              "</style>\n",
              "<table border=\"1\" class=\"dataframe\">\n",
              "  <thead>\n",
              "    <tr style=\"text-align: right;\">\n",
              "      <th></th>\n",
              "      <th>Open</th>\n",
              "      <th>High</th>\n",
              "      <th>Low</th>\n",
              "      <th>Close</th>\n",
              "      <th>Adj Close</th>\n",
              "      <th>Volume</th>\n",
              "    </tr>\n",
              "  </thead>\n",
              "  <tbody>\n",
              "    <tr>\n",
              "      <th>count</th>\n",
              "      <td>2746.000000</td>\n",
              "      <td>2746.000000</td>\n",
              "      <td>2746.000000</td>\n",
              "      <td>2746.000000</td>\n",
              "      <td>2746.000000</td>\n",
              "      <td>2.746000e+03</td>\n",
              "    </tr>\n",
              "    <tr>\n",
              "      <th>mean</th>\n",
              "      <td>1708.300461</td>\n",
              "      <td>1717.542164</td>\n",
              "      <td>1698.229986</td>\n",
              "      <td>1708.533732</td>\n",
              "      <td>1708.533732</td>\n",
              "      <td>4.018196e+09</td>\n",
              "    </tr>\n",
              "    <tr>\n",
              "      <th>std</th>\n",
              "      <td>560.929267</td>\n",
              "      <td>560.822181</td>\n",
              "      <td>560.947662</td>\n",
              "      <td>560.846932</td>\n",
              "      <td>560.846932</td>\n",
              "      <td>1.142968e+09</td>\n",
              "    </tr>\n",
              "    <tr>\n",
              "      <th>min</th>\n",
              "      <td>679.280029</td>\n",
              "      <td>695.270020</td>\n",
              "      <td>666.789978</td>\n",
              "      <td>676.530029</td>\n",
              "      <td>676.530029</td>\n",
              "      <td>1.025000e+09</td>\n",
              "    </tr>\n",
              "    <tr>\n",
              "      <th>25%</th>\n",
              "      <td>1257.654999</td>\n",
              "      <td>1264.467499</td>\n",
              "      <td>1247.747467</td>\n",
              "      <td>1257.772522</td>\n",
              "      <td>1257.772522</td>\n",
              "      <td>3.314200e+09</td>\n",
              "    </tr>\n",
              "    <tr>\n",
              "      <th>50%</th>\n",
              "      <td>1635.734985</td>\n",
              "      <td>1646.455017</td>\n",
              "      <td>1628.980041</td>\n",
              "      <td>1637.265015</td>\n",
              "      <td>1637.265015</td>\n",
              "      <td>3.745685e+09</td>\n",
              "    </tr>\n",
              "    <tr>\n",
              "      <th>75%</th>\n",
              "      <td>2098.585083</td>\n",
              "      <td>2104.265015</td>\n",
              "      <td>2088.189941</td>\n",
              "      <td>2098.777587</td>\n",
              "      <td>2098.777587</td>\n",
              "      <td>4.456238e+09</td>\n",
              "    </tr>\n",
              "    <tr>\n",
              "      <th>max</th>\n",
              "      <td>2936.760010</td>\n",
              "      <td>2940.909912</td>\n",
              "      <td>2927.110107</td>\n",
              "      <td>2930.750000</td>\n",
              "      <td>2930.750000</td>\n",
              "      <td>1.145623e+10</td>\n",
              "    </tr>\n",
              "  </tbody>\n",
              "</table>\n",
              "</div>"
            ],
            "text/plain": [
              "              Open         High  ...    Adj Close        Volume\n",
              "count  2746.000000  2746.000000  ...  2746.000000  2.746000e+03\n",
              "mean   1708.300461  1717.542164  ...  1708.533732  4.018196e+09\n",
              "std     560.929267   560.822181  ...   560.846932  1.142968e+09\n",
              "min     679.280029   695.270020  ...   676.530029  1.025000e+09\n",
              "25%    1257.654999  1264.467499  ...  1257.772522  3.314200e+09\n",
              "50%    1635.734985  1646.455017  ...  1637.265015  3.745685e+09\n",
              "75%    2098.585083  2104.265015  ...  2098.777587  4.456238e+09\n",
              "max    2936.760010  2940.909912  ...  2930.750000  1.145623e+10\n",
              "\n",
              "[8 rows x 6 columns]"
            ]
          },
          "metadata": {
            "tags": []
          },
          "execution_count": 156
        }
      ]
    },
    {
      "cell_type": "code",
      "metadata": {
        "id": "7aGZQ2980hhm",
        "outputId": "99ce962d-9b3b-4468-c66b-97e7c3646abc",
        "colab": {
          "base_uri": "https://localhost:8080/"
        }
      },
      "source": [
        "# check if any of the columns has missing values\n",
        "df.isnull().any()"
      ],
      "execution_count": 157,
      "outputs": [
        {
          "output_type": "execute_result",
          "data": {
            "text/plain": [
              "Open         False\n",
              "High         False\n",
              "Low          False\n",
              "Close        False\n",
              "Adj Close    False\n",
              "Volume       False\n",
              "dtype: bool"
            ]
          },
          "metadata": {
            "tags": []
          },
          "execution_count": 157
        }
      ]
    },
    {
      "cell_type": "code",
      "metadata": {
        "id": "mPePR4r7zmdv",
        "outputId": "da6db0e8-49c7-40f1-b8d2-a9d71710648f",
        "colab": {
          "base_uri": "https://localhost:8080/",
          "height": 448
        }
      },
      "source": [
        "# adapted from: https://matplotlib.org/3.1.0/gallery/text_labels_and_annotations/date_index_formatter.html\n",
        "\n",
        "import matplotlib.ticker as ticker\n",
        "\n",
        "fig, ax = plt.subplots(figsize=(10,7))\n",
        "\n",
        "N = df.index.size\n",
        "ind = np.arange(N)  # the evenly spaced plot indices\n",
        "\n",
        "ax.plot(ind, df['Close'])\n",
        "\n",
        "def format_date(x, pos=None):\n",
        "    thisind = np.clip(int(x + 0.5), 0, N - 1)\n",
        "    return df.index[thisind]\n",
        "\n",
        "ax.xaxis.set_major_formatter(ticker.FuncFormatter(format_date))\n",
        "fig.autofmt_xdate()\n",
        "\n",
        "ax.set_ylabel('Close price')\n",
        "ax.set_xlabel('Date (week day)')\n",
        "ax.set_title('S&P500 02/01/2008-27/11/2018')\n",
        "plt.show()"
      ],
      "execution_count": 158,
      "outputs": [
        {
          "output_type": "display_data",
          "data": {
            "image/png": "[encoded data removed]",
            "text/plain": [
              "<Figure size 720x504 with 1 Axes>"
            ]
          },
          "metadata": {
            "tags": [],
            "needs_background": "light"
          }
        }
      ]
    },
    {
      "cell_type": "markdown",
      "metadata": {
        "id": "NmfAianfQ5GH"
      },
      "source": [
        "## Wilshire 5000 data description"
      ]
    },
    {
      "cell_type": "code",
      "metadata": {
        "id": "8N6B3KI8Q5GQ"
      },
      "source": [
        "df = pd.read_csv(url_wilshire, index_col='Date')"
      ],
      "execution_count": 173,
      "outputs": []
    },
    {
      "cell_type": "code",
      "metadata": {
        "id": "3Z_-A-tLQ5Gs",
        "outputId": "1e6474ec-4edc-47be-83c8-1f0ad573d430",
        "colab": {
          "base_uri": "https://localhost:8080/"
        }
      },
      "source": [
        "print(f'Number of rows: \\t{df.shape[0]}')\n",
        "print(f'Number of columns: \\t{df.shape[1]}')\n",
        "print(f'Columns: \\t\\t{\", \".join(list(df.columns))}')"
      ],
      "execution_count": 160,
      "outputs": [
        {
          "output_type": "stream",
          "text": [
            "Number of rows: \t2746\n",
            "Number of columns: \t6\n",
            "Columns: \t\tOpen, High, Low, Close, Adj Close, Volume\n"
          ],
          "name": "stdout"
        }
      ]
    },
    {
      "cell_type": "code",
      "metadata": {
        "id": "fBNhiZ8oQ5HD",
        "outputId": "e582150c-9950-4c05-dad1-28d6c78e2df3",
        "colab": {
          "base_uri": "https://localhost:8080/",
          "height": 238
        }
      },
      "source": [
        "# first 5 rows\n",
        "df.head(5)\n",
        "# last 5 rows\n",
        "#df.tail(5)"
      ],
      "execution_count": 161,
      "outputs": [
        {
          "output_type": "execute_result",
          "data": {
            "text/html": [
              "<div>\n",
              "<style scoped>\n",
              "    .dataframe tbody tr th:only-of-type {\n",
              "        vertical-align: middle;\n",
              "    }\n",
              "\n",
              "    .dataframe tbody tr th {\n",
              "        vertical-align: top;\n",
              "    }\n",
              "\n",
              "    .dataframe thead th {\n",
              "        text-align: right;\n",
              "    }\n",
              "</style>\n",
              "<table border=\"1\" class=\"dataframe\">\n",
              "  <thead>\n",
              "    <tr style=\"text-align: right;\">\n",
              "      <th></th>\n",
              "      <th>Open</th>\n",
              "      <th>High</th>\n",
              "      <th>Low</th>\n",
              "      <th>Close</th>\n",
              "      <th>Adj Close</th>\n",
              "      <th>Volume</th>\n",
              "    </tr>\n",
              "    <tr>\n",
              "      <th>Date</th>\n",
              "      <th></th>\n",
              "      <th></th>\n",
              "      <th></th>\n",
              "      <th></th>\n",
              "      <th></th>\n",
              "      <th></th>\n",
              "    </tr>\n",
              "  </thead>\n",
              "  <tbody>\n",
              "    <tr>\n",
              "      <th>2008-01-02</th>\n",
              "      <td>14613.570313</td>\n",
              "      <td>14613.570313</td>\n",
              "      <td>14613.570313</td>\n",
              "      <td>14613.570313</td>\n",
              "      <td>14613.570313</td>\n",
              "      <td>0.0</td>\n",
              "    </tr>\n",
              "    <tr>\n",
              "      <th>2008-01-03</th>\n",
              "      <td>14587.919922</td>\n",
              "      <td>14587.919922</td>\n",
              "      <td>14587.919922</td>\n",
              "      <td>14587.919922</td>\n",
              "      <td>14587.919922</td>\n",
              "      <td>0.0</td>\n",
              "    </tr>\n",
              "    <tr>\n",
              "      <th>2008-01-04</th>\n",
              "      <td>14210.849609</td>\n",
              "      <td>14210.849609</td>\n",
              "      <td>14210.849609</td>\n",
              "      <td>14210.849609</td>\n",
              "      <td>14210.849609</td>\n",
              "      <td>0.0</td>\n",
              "    </tr>\n",
              "    <tr>\n",
              "      <th>2008-01-07</th>\n",
              "      <td>14229.799805</td>\n",
              "      <td>14229.799805</td>\n",
              "      <td>14229.799805</td>\n",
              "      <td>14229.799805</td>\n",
              "      <td>14229.799805</td>\n",
              "      <td>0.0</td>\n",
              "    </tr>\n",
              "    <tr>\n",
              "      <th>2008-01-08</th>\n",
              "      <td>13963.200195</td>\n",
              "      <td>13963.200195</td>\n",
              "      <td>13963.200195</td>\n",
              "      <td>13963.200195</td>\n",
              "      <td>13963.200195</td>\n",
              "      <td>0.0</td>\n",
              "    </tr>\n",
              "  </tbody>\n",
              "</table>\n",
              "</div>"
            ],
            "text/plain": [
              "                    Open          High  ...     Adj Close  Volume\n",
              "Date                                    ...                      \n",
              "2008-01-02  14613.570313  14613.570313  ...  14613.570313     0.0\n",
              "2008-01-03  14587.919922  14587.919922  ...  14587.919922     0.0\n",
              "2008-01-04  14210.849609  14210.849609  ...  14210.849609     0.0\n",
              "2008-01-07  14229.799805  14229.799805  ...  14229.799805     0.0\n",
              "2008-01-08  13963.200195  13963.200195  ...  13963.200195     0.0\n",
              "\n",
              "[5 rows x 6 columns]"
            ]
          },
          "metadata": {
            "tags": []
          },
          "execution_count": 161
        }
      ]
    },
    {
      "cell_type": "code",
      "metadata": {
        "id": "Ob1ulyo8Q5HS",
        "outputId": "be10f0d7-10f5-453b-c2a8-ada60dd264ab",
        "colab": {
          "base_uri": "https://localhost:8080/",
          "height": 300
        }
      },
      "source": [
        "# summary statistics\n",
        "df.describe()"
      ],
      "execution_count": 162,
      "outputs": [
        {
          "output_type": "execute_result",
          "data": {
            "text/html": [
              "<div>\n",
              "<style scoped>\n",
              "    .dataframe tbody tr th:only-of-type {\n",
              "        vertical-align: middle;\n",
              "    }\n",
              "\n",
              "    .dataframe tbody tr th {\n",
              "        vertical-align: top;\n",
              "    }\n",
              "\n",
              "    .dataframe thead th {\n",
              "        text-align: right;\n",
              "    }\n",
              "</style>\n",
              "<table border=\"1\" class=\"dataframe\">\n",
              "  <thead>\n",
              "    <tr style=\"text-align: right;\">\n",
              "      <th></th>\n",
              "      <th>Open</th>\n",
              "      <th>High</th>\n",
              "      <th>Low</th>\n",
              "      <th>Close</th>\n",
              "      <th>Adj Close</th>\n",
              "      <th>Volume</th>\n",
              "    </tr>\n",
              "  </thead>\n",
              "  <tbody>\n",
              "    <tr>\n",
              "      <th>count</th>\n",
              "      <td>2740.000000</td>\n",
              "      <td>2740.000000</td>\n",
              "      <td>2740.000000</td>\n",
              "      <td>2740.000000</td>\n",
              "      <td>2740.000000</td>\n",
              "      <td>2740.0</td>\n",
              "    </tr>\n",
              "    <tr>\n",
              "      <th>mean</th>\n",
              "      <td>17826.795558</td>\n",
              "      <td>17912.301265</td>\n",
              "      <td>17738.106917</td>\n",
              "      <td>17833.180675</td>\n",
              "      <td>17833.180675</td>\n",
              "      <td>0.0</td>\n",
              "    </tr>\n",
              "    <tr>\n",
              "      <th>std</th>\n",
              "      <td>5873.519599</td>\n",
              "      <td>5890.666621</td>\n",
              "      <td>5854.148448</td>\n",
              "      <td>5871.715705</td>\n",
              "      <td>5871.715705</td>\n",
              "      <td>0.0</td>\n",
              "    </tr>\n",
              "    <tr>\n",
              "      <th>min</th>\n",
              "      <td>6858.430176</td>\n",
              "      <td>6858.430176</td>\n",
              "      <td>6858.430176</td>\n",
              "      <td>6858.430176</td>\n",
              "      <td>6858.430176</td>\n",
              "      <td>0.0</td>\n",
              "    </tr>\n",
              "    <tr>\n",
              "      <th>25%</th>\n",
              "      <td>13062.697754</td>\n",
              "      <td>13107.312744</td>\n",
              "      <td>13026.557129</td>\n",
              "      <td>13069.782226</td>\n",
              "      <td>13069.782226</td>\n",
              "      <td>0.0</td>\n",
              "    </tr>\n",
              "    <tr>\n",
              "      <th>50%</th>\n",
              "      <td>17269.719726</td>\n",
              "      <td>17354.865235</td>\n",
              "      <td>17175.214844</td>\n",
              "      <td>17282.299804</td>\n",
              "      <td>17282.299804</td>\n",
              "      <td>0.0</td>\n",
              "    </tr>\n",
              "    <tr>\n",
              "      <th>75%</th>\n",
              "      <td>22029.310059</td>\n",
              "      <td>22143.919434</td>\n",
              "      <td>21916.495606</td>\n",
              "      <td>22046.445312</td>\n",
              "      <td>22046.445312</td>\n",
              "      <td>0.0</td>\n",
              "    </tr>\n",
              "    <tr>\n",
              "      <th>max</th>\n",
              "      <td>30518.599609</td>\n",
              "      <td>30560.539063</td>\n",
              "      <td>30401.960938</td>\n",
              "      <td>30462.289063</td>\n",
              "      <td>30462.289063</td>\n",
              "      <td>0.0</td>\n",
              "    </tr>\n",
              "  </tbody>\n",
              "</table>\n",
              "</div>"
            ],
            "text/plain": [
              "               Open          High  ...     Adj Close  Volume\n",
              "count   2740.000000   2740.000000  ...   2740.000000  2740.0\n",
              "mean   17826.795558  17912.301265  ...  17833.180675     0.0\n",
              "std     5873.519599   5890.666621  ...   5871.715705     0.0\n",
              "min     6858.430176   6858.430176  ...   6858.430176     0.0\n",
              "25%    13062.697754  13107.312744  ...  13069.782226     0.0\n",
              "50%    17269.719726  17354.865235  ...  17282.299804     0.0\n",
              "75%    22029.310059  22143.919434  ...  22046.445312     0.0\n",
              "max    30518.599609  30560.539063  ...  30462.289063     0.0\n",
              "\n",
              "[8 rows x 6 columns]"
            ]
          },
          "metadata": {
            "tags": []
          },
          "execution_count": 162
        }
      ]
    },
    {
      "cell_type": "code",
      "metadata": {
        "id": "ZW01bWROQ5He",
        "outputId": "18f4deaf-4f02-4e1c-8c6f-f9afae440795",
        "colab": {
          "base_uri": "https://localhost:8080/"
        }
      },
      "source": [
        "# check if any of the columns has missing values\n",
        "df.isnull().any()"
      ],
      "execution_count": 163,
      "outputs": [
        {
          "output_type": "execute_result",
          "data": {
            "text/plain": [
              "Open         True\n",
              "High         True\n",
              "Low          True\n",
              "Close        True\n",
              "Adj Close    True\n",
              "Volume       True\n",
              "dtype: bool"
            ]
          },
          "metadata": {
            "tags": []
          },
          "execution_count": 163
        }
      ]
    },
    {
      "cell_type": "code",
      "metadata": {
        "id": "RrZbT-CMR7Qz",
        "outputId": "31c11ee9-f07a-4c8e-a264-2080d55a9539",
        "colab": {
          "base_uri": "https://localhost:8080/"
        }
      },
      "source": [
        "# get dates for which close price is missing\n",
        "import datetime\n",
        "\n",
        "def is_weekday(datetime_str):\n",
        "  \"Assumes datetime_str has format year-month-day, e.g. 2000-05-28.\"\n",
        "  datetime_obj = datetime.datetime.strptime(datetime_str, '%Y-%m-%d')\n",
        "  return datetime_obj.weekday() < 5\n",
        "\n",
        "missing = df.index[df['Close'].isnull()]\n",
        "print(f'There are {missing.size} missing values for the close price.')\n",
        "print('The missing dates are:')\n",
        "for date in missing: print(f'{date} --- is week day: {is_weekday(date)}')"
      ],
      "execution_count": 174,
      "outputs": [
        {
          "output_type": "stream",
          "text": [
            "There are 6 missing values for the close price.\n",
            "The missing dates are:\n",
            "2016-04-01 --- is week day: True\n",
            "2016-05-03 --- is week day: True\n",
            "2016-05-31 --- is week day: True\n",
            "2016-07-22 --- is week day: True\n",
            "2016-08-23 --- is week day: True\n",
            "2016-08-25 --- is week day: True\n"
          ],
          "name": "stdout"
        }
      ]
    },
    {
      "cell_type": "code",
      "metadata": {
        "id": "j9TLHqkyWLQM"
      },
      "source": [
        "# drop rows with missing values\n",
        "df = df.dropna()"
      ],
      "execution_count": 175,
      "outputs": []
    },
    {
      "cell_type": "code",
      "metadata": {
        "id": "aw6s0kgsQ5Hs",
        "outputId": "b7515e73-32fd-4445-c17e-e0eab1c060a7",
        "colab": {
          "base_uri": "https://localhost:8080/",
          "height": 432
        }
      },
      "source": [
        "# adapted from: https://matplotlib.org/3.1.0/gallery/text_labels_and_annotations/date_index_formatter.html\n",
        "\n",
        "import matplotlib.ticker as ticker\n",
        "\n",
        "fig, ax = plt.subplots(figsize=(10,7))\n",
        "\n",
        "N = df.index.size\n",
        "ind = np.arange(N)  # the evenly spaced plot indices\n",
        "\n",
        "ax.plot(ind, df['Close'])\n",
        "\n",
        "def format_date(x, pos=None):\n",
        "    thisind = np.clip(int(x + 0.5), 0, N - 1)\n",
        "    return df.index[thisind]\n",
        "\n",
        "ax.xaxis.set_major_formatter(ticker.FuncFormatter(format_date))\n",
        "fig.autofmt_xdate()\n",
        "\n",
        "ax.set_ylabel('Close price')\n",
        "ax.set_xlabel('Date (week day)')\n",
        "plt.show()"
      ],
      "execution_count": 176,
      "outputs": [
        {
          "output_type": "display_data",
          "data": {
            "image/png": "[encoded data removed]",
            "text/plain": [
              "<Figure size 720x504 with 1 Axes>"
            ]
          },
          "metadata": {
            "tags": [],
            "needs_background": "light"
          }
        }
      ]
    },
    {
      "cell_type": "markdown",
      "metadata": {
        "id": "nVfRBs9wWVA3"
      },
      "source": [
        "## S&P500 and  Wilshire 5000 joint plot"
      ]
    },
    {
      "cell_type": "code",
      "metadata": {
        "id": "4uEiGODoWgSN"
      },
      "source": [
        "df_sp500 = pd.read_csv(url_sp500, index_col='Date')\n",
        "df_wilshire = pd.read_csv(url_wilshire, index_col='Date')"
      ],
      "execution_count": 184,
      "outputs": []
    },
    {
      "cell_type": "code",
      "metadata": {
        "id": "oqx9MTstWgDo"
      },
      "source": [
        "# drop missing rows for close price\n",
        "missing = df_wilshire.index[df_wilshire['Close'].isnull()]\n",
        "df_sp500.drop(index=missing, inplace=True)\n",
        "df_wilshire.drop(index=missing, inplace=True)"
      ],
      "execution_count": 185,
      "outputs": []
    },
    {
      "cell_type": "code",
      "metadata": {
        "id": "FYd4fu2aXlsQ",
        "outputId": "a6336e1a-1e30-486e-dd2a-f133e188bcb8",
        "colab": {
          "base_uri": "https://localhost:8080/",
          "height": 448
        }
      },
      "source": [
        "# adapted from: https://matplotlib.org/3.1.0/gallery/text_labels_and_annotations/date_index_formatter.html\n",
        "\n",
        "import matplotlib.ticker as ticker\n",
        "\n",
        "fig, axes = plt.subplots(1, 2, figsize=(18,7))\n",
        "\n",
        "N = df_sp500.index.size\n",
        "ind = np.arange(N)  # the evenly spaced plot indices\n",
        "\n",
        "# absolute value\n",
        "axes[0].plot(ind, df_sp500['Close'], label='S&P500')\n",
        "axes[0].plot(ind, df_wilshire['Close'], label='Wilshire 5000')\n",
        "axes[0].set_title('Absolute value')\n",
        "axes[0].set_ylabel('Close price')\n",
        "axes[0].set_xlabel('Date (week day)')\n",
        "\n",
        "# relative change normalized\n",
        "def normalize(x):\n",
        "  return (x - x[0]) / x[0]\n",
        "axes[1].plot(ind, normalize(df_sp500['Close']), label='S&P500')\n",
        "axes[1].plot(ind, normalize(df_wilshire['Close']), label='Wilshire 5000')\n",
        "axes[1].set_title('Relative change normalized')\n",
        "axes[1].set_ylabel('Close price relative change')\n",
        "axes[1].set_xlabel('Date (week day)')\n",
        "\n",
        "\n",
        "def format_date(x, pos=None):\n",
        "    thisind = np.clip(int(x + 0.5), 0, N - 1)\n",
        "    return df.index[thisind]\n",
        "\n",
        "for ax in axes:\n",
        "  ax.xaxis.set_major_formatter(ticker.FuncFormatter(format_date))\n",
        "  ax.legend()\n",
        "\n",
        "fig.autofmt_xdate()\n",
        "plt.show()"
      ],
      "execution_count": 193,
      "outputs": [
        {
          "output_type": "display_data",
          "data": {
            "image/png": "[encoded data removed]",
            "text/plain": [
              "<Figure size 1296x504 with 2 Axes>"
            ]
          },
          "metadata": {
            "tags": [],
            "needs_background": "light"
          }
        }
      ]
    },
    {
      "cell_type": "markdown",
      "metadata": {
        "id": "dFtgted2wslz"
      },
      "source": [
        "## Construct normalized sequences"
      ]
    },
    {
      "cell_type": "code",
      "metadata": {
        "id": "SqU5oATd7t0-"
      },
      "source": [
        "def make_sequences(timeseries, sequence_length, to_numpy=False):\n",
        "  \"\"\"\n",
        "  timeseries: pandas.Series\n",
        "  sequence_length: positive integer\n",
        "  to_numpy: Bool (default=False)\n",
        "\n",
        "  Returns pandas.DataFrame where each column is named after the first day of the\n",
        "  sequence and holds sequence_length number of consecutive entries of timeseries\n",
        "  which we call a sequence.\n",
        "  If to_numpy is True, then convert pandas.DataFrame to numpy array of shape\n",
        "  (timeseries.size - sequence_length + 1, sequence_length).\n",
        "  \"\"\"\n",
        "  sequence_ix = [np.arange(i, i + sequence_length) for i in np.arange(timeseries.size - sequence_length + 1)]\n",
        "  df = pd.DataFrame(columns=timeseries.index[:-sequence_length+1],\n",
        "                    data=np.array([timeseries[ix] for ix in sequence_ix]).T,\n",
        "                    index=np.arange(sequence_length))\n",
        "  df.columns.rename('First day of sequence', inplace=True)\n",
        "  df.index.rename('Day', inplace=True)\n",
        "  if to_numpy:\n",
        "    return df.to_numpy().T\n",
        "  else:\n",
        "    return df"
      ],
      "execution_count": 113,
      "outputs": []
    },
    {
      "cell_type": "markdown",
      "metadata": {
        "id": "GH3FFhyrLuvR"
      },
      "source": [
        "#### make_sequence usage example: 50 day running mean"
      ]
    },
    {
      "cell_type": "code",
      "metadata": {
        "id": "aSZ-MCVJD-LQ"
      },
      "source": [
        "seqdf = make_sequences(df['Close'], 50)\n",
        "running_mean_series = seqdf.mean()"
      ],
      "execution_count": 132,
      "outputs": []
    },
    {
      "cell_type": "code",
      "metadata": {
        "id": "pzfWfCr_ED0g",
        "outputId": "bf6197cc-12bf-4704-a077-6a79d9cbe69a",
        "colab": {
          "base_uri": "https://localhost:8080/",
          "height": 432
        }
      },
      "source": [
        "import matplotlib.ticker as ticker\n",
        "\n",
        "fig, ax = plt.subplots(figsize=(10,7))\n",
        "\n",
        "N = df['Close'].index.size\n",
        "ind = np.arange(N)  # the evenly spaced plot indices\n",
        "ind_ = np.arange(running_mean_series.size) + 50\n",
        "\n",
        "ax.plot(ind, df['Close'], label='Daily close price')\n",
        "ax.plot(ind_, running_mean_series, label='50 day running mean')\n",
        "\n",
        "def format_date(x, pos=None):\n",
        "    thisind = np.clip(int(x + 0.5), 0, N - 1)\n",
        "    return df.index[thisind]\n",
        "\n",
        "ax.xaxis.set_major_formatter(ticker.FuncFormatter(format_date))\n",
        "fig.autofmt_xdate()\n",
        "\n",
        "ax.set_ylabel('Close price')\n",
        "ax.set_xlabel('Date (week day)')\n",
        "plt.legend()\n",
        "plt.show()"
      ],
      "execution_count": 133,
      "outputs": [
        {
          "output_type": "display_data",
          "data": {
            "image/png": "[encoded data removed]",
            "text/plain": [
              "<Figure size 720x504 with 1 Axes>"
            ]
          },
          "metadata": {
            "tags": [],
            "needs_background": "light"
          }
        }
      ]
    },
    {
      "cell_type": "markdown",
      "metadata": {
        "id": "RTnOQ7Q9L95l"
      },
      "source": [
        "#### Relative change normalization\n",
        "\"Each of the data segments was normalized by subtracting each price in the sequence by the first price in the sequence, then divide by the first price in the sequence. This form of normalization is called relative change.\""
      ]
    },
    {
      "cell_type": "code",
      "metadata": {
        "id": "YgbBXaETMhaj"
      },
      "source": [
        "# https://pandas.pydata.org/pandas-docs/stable/reference/api/pandas.DataFrame.apply.html#pandas.DataFrame.apply\n",
        "\n",
        "def relative_change_normalization(df):\n",
        "  \"\"\"\n",
        "  df: pandas.DataFrame\n",
        "\n",
        "  Returns df where each column is normalized by subtracting the first row of the\n",
        "  column and then dividing by the first row of t&he column.\n",
        "  \"\"\"\n",
        "  return df.apply(lambda x: (x - x[0]) / x[0])&"
      ],
      "execution_count": 138,
      "outputs": []
    }
  ]
}
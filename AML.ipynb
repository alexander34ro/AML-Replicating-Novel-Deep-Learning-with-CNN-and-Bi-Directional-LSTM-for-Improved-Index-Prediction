{
  "nbformat": 4,
  "nbformat_minor": 0,
  "metadata": {
    "colab": {
      "name": "AML.ipynb",
      "provenance": [],
      "collapsed_sections": [],
      "include_colab_link": true
    },
    "kernelspec": {
      "name": "python3",
      "display_name": "Python 3"
    }
  },
  "cells": [
    {
      "cell_type": "markdown",
      "metadata": {
        "id": "view-in-github",
        "colab_type": "text"
      },
      "source": [
        "<a href=\"https://colab.research.google.com/github/alexander34ro/AML-Replicating-Novel-Deep-Learning-with-CNN-and-Bi-Directional-LSTM-for-Improved-Index-Prediction/blob/main/AML.ipynb\" target=\"_parent\"><img src=\"https://colab.research.google.com/assets/colab-badge.svg\" alt=\"Open In Colab\"/></a>"
      ]
    },
    {
      "cell_type": "code",
      "metadata": {
        "id": "BUL4Bxszda53"
      },
      "source": [
        "import tensorflow as tf\n",
        "import pandas as pd\n",
        "import numpy as np\n",
        "import matplotlib.pyplot as plt"
      ],
      "execution_count": 1,
      "outputs": []
    },
    {
      "cell_type": "markdown",
      "metadata": {
        "id": "2l2BkKSKHz-h"
      },
      "source": [
        "# This is the dataset refrenced in the paper:\n",
        "Yahoo Finance, S&P500 stock data [Online]. Available:\n",
        "https://finance.yahoo.com/quote/%5EGSPC/history?p=%5EGSPC.\n",
        "[Accessed 29 Nov. 2018].\n",
        "\n",
        "\n",
        "# This is the actual dataset based on the paper: https://finance.yahoo.com/quote/%5EGSPC/history?period1=1199232000&period2=1543276800&interval=1d&filter=history&frequency=1d&includeAdjustedClose=true\n",
        "\n",
        "# From 2008-01-02 to 2018-11-27\n"
      ]
    },
    {
      "cell_type": "code",
      "metadata": {
        "id": "EMZ1Bjvrf13g"
      },
      "source": [
        "url = 'https://raw.githubusercontent.com/amir-souri/Stock-Market-Index-Prediction/master/GSPC.csv'\n",
        "df = pd.read_csv(url, index_col='Date')"
      ],
      "execution_count": 2,
      "outputs": []
    },
    {
      "cell_type": "code",
      "metadata": {
        "id": "MkKTnzAqN-l0",
        "outputId": "04c93969-e384-47d2-ec66-d4936b2db594",
        "colab": {
          "base_uri": "https://localhost:8080/"
        }
      },
      "source": [
        "df.shape"
      ],
      "execution_count": 3,
      "outputs": [
        {
          "output_type": "execute_result",
          "data": {
            "text/plain": [
              "(2747, 6)"
            ]
          },
          "metadata": {
            "tags": []
          },
          "execution_count": 3
        }
      ]
    },
    {
      "cell_type": "code",
      "metadata": {
        "id": "Gkrk2Nlqkwia",
        "outputId": "24526e8c-87d7-4fef-df90-f63652905ce2",
        "colab": {
          "base_uri": "https://localhost:8080/",
          "height": 112
        }
      },
      "source": [
        "df.tail(1) # last row"
      ],
      "execution_count": 4,
      "outputs": [
        {
          "output_type": "execute_result",
          "data": {
            "text/html": [
              "<div>\n",
              "<style scoped>\n",
              "    .dataframe tbody tr th:only-of-type {\n",
              "        vertical-align: middle;\n",
              "    }\n",
              "\n",
              "    .dataframe tbody tr th {\n",
              "        vertical-align: top;\n",
              "    }\n",
              "\n",
              "    .dataframe thead th {\n",
              "        text-align: right;\n",
              "    }\n",
              "</style>\n",
              "<table border=\"1\" class=\"dataframe\">\n",
              "  <thead>\n",
              "    <tr style=\"text-align: right;\">\n",
              "      <th></th>\n",
              "      <th>Open</th>\n",
              "      <th>High</th>\n",
              "      <th>Low</th>\n",
              "      <th>Close</th>\n",
              "      <th>Adj Close</th>\n",
              "      <th>Volume</th>\n",
              "    </tr>\n",
              "    <tr>\n",
              "      <th>Date</th>\n",
              "      <th></th>\n",
              "      <th></th>\n",
              "      <th></th>\n",
              "      <th></th>\n",
              "      <th></th>\n",
              "      <th></th>\n",
              "    </tr>\n",
              "  </thead>\n",
              "  <tbody>\n",
              "    <tr>\n",
              "      <th>2018-11-27</th>\n",
              "      <td>2663.75</td>\n",
              "      <td>2682.530029</td>\n",
              "      <td>2655.889893</td>\n",
              "      <td>2682.169922</td>\n",
              "      <td>2682.169922</td>\n",
              "      <td>3485220000</td>\n",
              "    </tr>\n",
              "  </tbody>\n",
              "</table>\n",
              "</div>"
            ],
            "text/plain": [
              "               Open         High  ...    Adj Close      Volume\n",
              "Date                              ...                         \n",
              "2018-11-27  2663.75  2682.530029  ...  2682.169922  3485220000\n",
              "\n",
              "[1 rows x 6 columns]"
            ]
          },
          "metadata": {
            "tags": []
          },
          "execution_count": 4
        }
      ]
    },
    {
      "cell_type": "code",
      "metadata": {
        "id": "OiwyoPfDJ13X",
        "outputId": "e9acce7c-202d-4f4b-d276-4c0f2d19dea5",
        "colab": {
          "base_uri": "https://localhost:8080/",
          "height": 112
        }
      },
      "source": [
        "df.head(1) # first row"
      ],
      "execution_count": 5,
      "outputs": [
        {
          "output_type": "execute_result",
          "data": {
            "text/html": [
              "<div>\n",
              "<style scoped>\n",
              "    .dataframe tbody tr th:only-of-type {\n",
              "        vertical-align: middle;\n",
              "    }\n",
              "\n",
              "    .dataframe tbody tr th {\n",
              "        vertical-align: top;\n",
              "    }\n",
              "\n",
              "    .dataframe thead th {\n",
              "        text-align: right;\n",
              "    }\n",
              "</style>\n",
              "<table border=\"1\" class=\"dataframe\">\n",
              "  <thead>\n",
              "    <tr style=\"text-align: right;\">\n",
              "      <th></th>\n",
              "      <th>Open</th>\n",
              "      <th>High</th>\n",
              "      <th>Low</th>\n",
              "      <th>Close</th>\n",
              "      <th>Adj Close</th>\n",
              "      <th>Volume</th>\n",
              "    </tr>\n",
              "    <tr>\n",
              "      <th>Date</th>\n",
              "      <th></th>\n",
              "      <th></th>\n",
              "      <th></th>\n",
              "      <th></th>\n",
              "      <th></th>\n",
              "      <th></th>\n",
              "    </tr>\n",
              "  </thead>\n",
              "  <tbody>\n",
              "    <tr>\n",
              "      <th>2008-01-02</th>\n",
              "      <td>1467.969971</td>\n",
              "      <td>1471.77002</td>\n",
              "      <td>1442.069946</td>\n",
              "      <td>1447.160034</td>\n",
              "      <td>1447.160034</td>\n",
              "      <td>3452650000</td>\n",
              "    </tr>\n",
              "  </tbody>\n",
              "</table>\n",
              "</div>"
            ],
            "text/plain": [
              "                   Open        High  ...    Adj Close      Volume\n",
              "Date                                 ...                         \n",
              "2008-01-02  1467.969971  1471.77002  ...  1447.160034  3452650000\n",
              "\n",
              "[1 rows x 6 columns]"
            ]
          },
          "metadata": {
            "tags": []
          },
          "execution_count": 5
        }
      ]
    },
    {
      "cell_type": "code",
      "metadata": {
        "id": "IrnZSKkWNj51",
        "outputId": "e86776e5-74bf-4aaa-b81c-905025455ad6",
        "colab": {
          "base_uri": "https://localhost:8080/",
          "height": 455
        }
      },
      "source": [
        "df.dropna() # Drop all rows that might containe not available (na) values if any."
      ],
      "execution_count": 6,
      "outputs": [
        {
          "output_type": "execute_result",
          "data": {
            "text/html": [
              "<div>\n",
              "<style scoped>\n",
              "    .dataframe tbody tr th:only-of-type {\n",
              "        vertical-align: middle;\n",
              "    }\n",
              "\n",
              "    .dataframe tbody tr th {\n",
              "        vertical-align: top;\n",
              "    }\n",
              "\n",
              "    .dataframe thead th {\n",
              "        text-align: right;\n",
              "    }\n",
              "</style>\n",
              "<table border=\"1\" class=\"dataframe\">\n",
              "  <thead>\n",
              "    <tr style=\"text-align: right;\">\n",
              "      <th></th>\n",
              "      <th>Open</th>\n",
              "      <th>High</th>\n",
              "      <th>Low</th>\n",
              "      <th>Close</th>\n",
              "      <th>Adj Close</th>\n",
              "      <th>Volume</th>\n",
              "    </tr>\n",
              "    <tr>\n",
              "      <th>Date</th>\n",
              "      <th></th>\n",
              "      <th></th>\n",
              "      <th></th>\n",
              "      <th></th>\n",
              "      <th></th>\n",
              "      <th></th>\n",
              "    </tr>\n",
              "  </thead>\n",
              "  <tbody>\n",
              "    <tr>\n",
              "      <th>2008-01-02</th>\n",
              "      <td>1467.969971</td>\n",
              "      <td>1471.770020</td>\n",
              "      <td>1442.069946</td>\n",
              "      <td>1447.160034</td>\n",
              "      <td>1447.160034</td>\n",
              "      <td>3452650000</td>\n",
              "    </tr>\n",
              "    <tr>\n",
              "      <th>2008-01-03</th>\n",
              "      <td>1447.550049</td>\n",
              "      <td>1456.800049</td>\n",
              "      <td>1443.729980</td>\n",
              "      <td>1447.160034</td>\n",
              "      <td>1447.160034</td>\n",
              "      <td>3429500000</td>\n",
              "    </tr>\n",
              "    <tr>\n",
              "      <th>2008-01-04</th>\n",
              "      <td>1444.010010</td>\n",
              "      <td>1444.010010</td>\n",
              "      <td>1411.189941</td>\n",
              "      <td>1411.630005</td>\n",
              "      <td>1411.630005</td>\n",
              "      <td>4166000000</td>\n",
              "    </tr>\n",
              "    <tr>\n",
              "      <th>2008-01-07</th>\n",
              "      <td>1414.069946</td>\n",
              "      <td>1423.869995</td>\n",
              "      <td>1403.449951</td>\n",
              "      <td>1416.180054</td>\n",
              "      <td>1416.180054</td>\n",
              "      <td>4221260000</td>\n",
              "    </tr>\n",
              "    <tr>\n",
              "      <th>2008-01-08</th>\n",
              "      <td>1415.709961</td>\n",
              "      <td>1430.280029</td>\n",
              "      <td>1388.300049</td>\n",
              "      <td>1390.189941</td>\n",
              "      <td>1390.189941</td>\n",
              "      <td>4705390000</td>\n",
              "    </tr>\n",
              "    <tr>\n",
              "      <th>...</th>\n",
              "      <td>...</td>\n",
              "      <td>...</td>\n",
              "      <td>...</td>\n",
              "      <td>...</td>\n",
              "      <td>...</td>\n",
              "      <td>...</td>\n",
              "    </tr>\n",
              "    <tr>\n",
              "      <th>2018-11-20</th>\n",
              "      <td>2654.600098</td>\n",
              "      <td>2669.439941</td>\n",
              "      <td>2631.520020</td>\n",
              "      <td>2641.889893</td>\n",
              "      <td>2641.889893</td>\n",
              "      <td>4357900000</td>\n",
              "    </tr>\n",
              "    <tr>\n",
              "      <th>2018-11-21</th>\n",
              "      <td>2657.739990</td>\n",
              "      <td>2670.729980</td>\n",
              "      <td>2649.820068</td>\n",
              "      <td>2649.929932</td>\n",
              "      <td>2649.929932</td>\n",
              "      <td>3233550000</td>\n",
              "    </tr>\n",
              "    <tr>\n",
              "      <th>2018-11-23</th>\n",
              "      <td>2633.360107</td>\n",
              "      <td>2647.550049</td>\n",
              "      <td>2631.090088</td>\n",
              "      <td>2632.560059</td>\n",
              "      <td>2632.560059</td>\n",
              "      <td>1651650000</td>\n",
              "    </tr>\n",
              "    <tr>\n",
              "      <th>2018-11-26</th>\n",
              "      <td>2649.969971</td>\n",
              "      <td>2674.350098</td>\n",
              "      <td>2649.969971</td>\n",
              "      <td>2673.449951</td>\n",
              "      <td>2673.449951</td>\n",
              "      <td>3443950000</td>\n",
              "    </tr>\n",
              "    <tr>\n",
              "      <th>2018-11-27</th>\n",
              "      <td>2663.750000</td>\n",
              "      <td>2682.530029</td>\n",
              "      <td>2655.889893</td>\n",
              "      <td>2682.169922</td>\n",
              "      <td>2682.169922</td>\n",
              "      <td>3485220000</td>\n",
              "    </tr>\n",
              "  </tbody>\n",
              "</table>\n",
              "<p>2747 rows × 6 columns</p>\n",
              "</div>"
            ],
            "text/plain": [
              "                   Open         High  ...    Adj Close      Volume\n",
              "Date                                  ...                         \n",
              "2008-01-02  1467.969971  1471.770020  ...  1447.160034  3452650000\n",
              "2008-01-03  1447.550049  1456.800049  ...  1447.160034  3429500000\n",
              "2008-01-04  1444.010010  1444.010010  ...  1411.630005  4166000000\n",
              "2008-01-07  1414.069946  1423.869995  ...  1416.180054  4221260000\n",
              "2008-01-08  1415.709961  1430.280029  ...  1390.189941  4705390000\n",
              "...                 ...          ...  ...          ...         ...\n",
              "2018-11-20  2654.600098  2669.439941  ...  2641.889893  4357900000\n",
              "2018-11-21  2657.739990  2670.729980  ...  2649.929932  3233550000\n",
              "2018-11-23  2633.360107  2647.550049  ...  2632.560059  1651650000\n",
              "2018-11-26  2649.969971  2674.350098  ...  2673.449951  3443950000\n",
              "2018-11-27  2663.750000  2682.530029  ...  2682.169922  3485220000\n",
              "\n",
              "[2747 rows x 6 columns]"
            ]
          },
          "metadata": {
            "tags": []
          },
          "execution_count": 6
        }
      ]
    },
    {
      "cell_type": "code",
      "metadata": {
        "id": "O34RY6iFk4ct",
        "outputId": "40d96412-6b9a-4aab-86c0-bac4b3d800fa",
        "colab": {
          "base_uri": "https://localhost:8080/",
          "height": 266
        }
      },
      "source": [
        "fig, ax = plt.subplots()\n",
        "ax.plot(df[\"Close\"]);"
      ],
      "execution_count": 8,
      "outputs": [
        {
          "output_type": "display_data",
          "data": {
            "image/png": "[encoded data removed]",
            "text/plain": [
              "<Figure size 432x288 with 1 Axes>"
            ]
          },
          "metadata": {
            "tags": [],
            "needs_background": "light"
          }
        }
      ]
    },
    {
      "cell_type": "code",
      "metadata": {
        "id": "U0JTlFxIOVD7"
      },
      "source": [
        ""
      ],
      "execution_count": 7,
      "outputs": []
    }
  ]
}